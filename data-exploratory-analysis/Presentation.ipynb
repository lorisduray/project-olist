{
 "cells": [
  {
   "cell_type": "code",
   "execution_count": null,
   "id": "0ac0b643",
   "metadata": {
    "slideshow": {
     "slide_type": "skip"
    }
   },
   "outputs": [],
   "source": [
    "%%HTML\n",
    "<script src=\"require.js\"></script>\n",
    "import plotly.io as pio\n",
    "pio.renderers.default = \"jupyterlab\""
   ]
  },
  {
   "cell_type": "code",
   "execution_count": 1,
   "id": "e76d7559",
   "metadata": {
    "slideshow": {
     "slide_type": "skip"
    }
   },
   "outputs": [
    {
     "name": "stdout",
     "output_type": "stream",
     "text": [
      "Initial profit margin: 23.964535285415753\n",
      "Initial profit: 667608.4440000001\n",
      "Optimal number of sellers to remove: 856\n",
      "Optimal profit margin: 46.91166362351736\n",
      "Optimal profits: 1070976.1160162983\n"
     ]
    },
    {
     "data": {
      "text/html": [
       "<div>\n",
       "<style scoped>\n",
       "    .dataframe tbody tr th:only-of-type {\n",
       "        vertical-align: middle;\n",
       "    }\n",
       "\n",
       "    .dataframe tbody tr th {\n",
       "        vertical-align: top;\n",
       "    }\n",
       "\n",
       "    .dataframe thead th {\n",
       "        text-align: right;\n",
       "    }\n",
       "</style>\n",
       "<table border=\"1\" class=\"dataframe\">\n",
       "  <thead>\n",
       "    <tr style=\"text-align: right;\">\n",
       "      <th></th>\n",
       "      <th>profit_margin</th>\n",
       "      <th>profits</th>\n",
       "    </tr>\n",
       "    <tr>\n",
       "      <th>number_seller_removed</th>\n",
       "      <th></th>\n",
       "      <th></th>\n",
       "    </tr>\n",
       "  </thead>\n",
       "  <tbody>\n",
       "    <tr>\n",
       "      <th>[0, 100)</th>\n",
       "      <td>36.55</td>\n",
       "      <td>928820.03</td>\n",
       "    </tr>\n",
       "    <tr>\n",
       "      <th>[100, 200)</th>\n",
       "      <td>43.56</td>\n",
       "      <td>1031749.98</td>\n",
       "    </tr>\n",
       "    <tr>\n",
       "      <th>[200, 300)</th>\n",
       "      <td>45.02</td>\n",
       "      <td>1049895.07</td>\n",
       "    </tr>\n",
       "    <tr>\n",
       "      <th>[300, 400)</th>\n",
       "      <td>45.66</td>\n",
       "      <td>1057949.38</td>\n",
       "    </tr>\n",
       "    <tr>\n",
       "      <th>[400, 500)</th>\n",
       "      <td>45.97</td>\n",
       "      <td>1061889.75</td>\n",
       "    </tr>\n",
       "    <tr>\n",
       "      <th>[500, 600)</th>\n",
       "      <td>46.13</td>\n",
       "      <td>1064809.67</td>\n",
       "    </tr>\n",
       "    <tr>\n",
       "      <th>[600, 700)</th>\n",
       "      <td>46.31</td>\n",
       "      <td>1067376.12</td>\n",
       "    </tr>\n",
       "    <tr>\n",
       "      <th>[700, 800)</th>\n",
       "      <td>46.49</td>\n",
       "      <td>1069357.84</td>\n",
       "    </tr>\n",
       "    <tr>\n",
       "      <th>[800, 900)</th>\n",
       "      <td>46.81</td>\n",
       "      <td>1070512.32</td>\n",
       "    </tr>\n",
       "    <tr>\n",
       "      <th>[900, 1000)</th>\n",
       "      <td>47.29</td>\n",
       "      <td>1069726.67</td>\n",
       "    </tr>\n",
       "    <tr>\n",
       "      <th>[1000, 1100)</th>\n",
       "      <td>47.67</td>\n",
       "      <td>1066313.63</td>\n",
       "    </tr>\n",
       "    <tr>\n",
       "      <th>[1100, 1200)</th>\n",
       "      <td>47.90</td>\n",
       "      <td>1059661.10</td>\n",
       "    </tr>\n",
       "    <tr>\n",
       "      <th>[1200, 1300)</th>\n",
       "      <td>48.21</td>\n",
       "      <td>1050576.95</td>\n",
       "    </tr>\n",
       "    <tr>\n",
       "      <th>[1300, 1400)</th>\n",
       "      <td>48.59</td>\n",
       "      <td>1038906.33</td>\n",
       "    </tr>\n",
       "    <tr>\n",
       "      <th>[1400, 1500)</th>\n",
       "      <td>48.80</td>\n",
       "      <td>1023101.02</td>\n",
       "    </tr>\n",
       "    <tr>\n",
       "      <th>[1500, 1600)</th>\n",
       "      <td>48.83</td>\n",
       "      <td>1003558.72</td>\n",
       "    </tr>\n",
       "    <tr>\n",
       "      <th>[1600, 1700)</th>\n",
       "      <td>48.98</td>\n",
       "      <td>981754.89</td>\n",
       "    </tr>\n",
       "    <tr>\n",
       "      <th>[1700, 1800)</th>\n",
       "      <td>49.06</td>\n",
       "      <td>956113.66</td>\n",
       "    </tr>\n",
       "    <tr>\n",
       "      <th>[1800, 1900)</th>\n",
       "      <td>49.14</td>\n",
       "      <td>925812.81</td>\n",
       "    </tr>\n",
       "    <tr>\n",
       "      <th>[1900, 2000)</th>\n",
       "      <td>49.47</td>\n",
       "      <td>892417.28</td>\n",
       "    </tr>\n",
       "    <tr>\n",
       "      <th>[2000, 2100)</th>\n",
       "      <td>49.66</td>\n",
       "      <td>853014.90</td>\n",
       "    </tr>\n",
       "    <tr>\n",
       "      <th>[2100, 2200)</th>\n",
       "      <td>49.53</td>\n",
       "      <td>806134.74</td>\n",
       "    </tr>\n",
       "    <tr>\n",
       "      <th>[2200, 2300)</th>\n",
       "      <td>49.55</td>\n",
       "      <td>753706.64</td>\n",
       "    </tr>\n",
       "    <tr>\n",
       "      <th>[2300, 2400)</th>\n",
       "      <td>48.96</td>\n",
       "      <td>691126.11</td>\n",
       "    </tr>\n",
       "    <tr>\n",
       "      <th>[2400, 2500)</th>\n",
       "      <td>48.28</td>\n",
       "      <td>620657.71</td>\n",
       "    </tr>\n",
       "    <tr>\n",
       "      <th>[2500, 2600)</th>\n",
       "      <td>47.06</td>\n",
       "      <td>539152.00</td>\n",
       "    </tr>\n",
       "    <tr>\n",
       "      <th>[2600, 2700)</th>\n",
       "      <td>45.85</td>\n",
       "      <td>448833.78</td>\n",
       "    </tr>\n",
       "    <tr>\n",
       "      <th>[2700, 2800)</th>\n",
       "      <td>44.43</td>\n",
       "      <td>346256.35</td>\n",
       "    </tr>\n",
       "    <tr>\n",
       "      <th>[2800, 2900)</th>\n",
       "      <td>39.29</td>\n",
       "      <td>219465.16</td>\n",
       "    </tr>\n",
       "  </tbody>\n",
       "</table>\n",
       "</div>"
      ],
      "text/plain": [
       "                       profit_margin     profits\n",
       "number_seller_removed                           \n",
       "[0, 100)                       36.55   928820.03\n",
       "[100, 200)                     43.56  1031749.98\n",
       "[200, 300)                     45.02  1049895.07\n",
       "[300, 400)                     45.66  1057949.38\n",
       "[400, 500)                     45.97  1061889.75\n",
       "[500, 600)                     46.13  1064809.67\n",
       "[600, 700)                     46.31  1067376.12\n",
       "[700, 800)                     46.49  1069357.84\n",
       "[800, 900)                     46.81  1070512.32\n",
       "[900, 1000)                    47.29  1069726.67\n",
       "[1000, 1100)                   47.67  1066313.63\n",
       "[1100, 1200)                   47.90  1059661.10\n",
       "[1200, 1300)                   48.21  1050576.95\n",
       "[1300, 1400)                   48.59  1038906.33\n",
       "[1400, 1500)                   48.80  1023101.02\n",
       "[1500, 1600)                   48.83  1003558.72\n",
       "[1600, 1700)                   48.98   981754.89\n",
       "[1700, 1800)                   49.06   956113.66\n",
       "[1800, 1900)                   49.14   925812.81\n",
       "[1900, 2000)                   49.47   892417.28\n",
       "[2000, 2100)                   49.66   853014.90\n",
       "[2100, 2200)                   49.53   806134.74\n",
       "[2200, 2300)                   49.55   753706.64\n",
       "[2300, 2400)                   48.96   691126.11\n",
       "[2400, 2500)                   48.28   620657.71\n",
       "[2500, 2600)                   47.06   539152.00\n",
       "[2600, 2700)                   45.85   448833.78\n",
       "[2700, 2800)                   44.43   346256.35\n",
       "[2800, 2900)                   39.29   219465.16"
      ]
     },
     "execution_count": 1,
     "metadata": {},
     "output_type": "execute_result"
    }
   ],
   "source": [
    "%load_ext autoreload\n",
    "%autoreload 2\n",
    "import pandas as pd\n",
    "import numpy as np\n",
    "import matplotlib.pyplot as plt\n",
    "import seaborn as sns\n",
    "import statsmodels.formula.api as smf\n",
    "from math import sqrt\n",
    "\n",
    "from olist.seller import Seller\n",
    "seller = Seller()\n",
    "sellers = seller.get_training_data()\n",
    "sellers\n",
    "\n",
    "seller_df = sellers[['seller_id', 'revenues', 'cost_of_reviews', 'profits', 'quantity']]\n",
    "sellers_df = seller_df.sort_values(by='profits', ascending=True)\n",
    "sellers_df\n",
    "\n",
    "def updated(sellers_df, seller_id):\n",
    "    # drop the seller\n",
    "    sellers_df = sellers_df.iloc[seller_id:]\n",
    "\n",
    "    # Calculate IT costs\n",
    "    alpha = 3157.27\n",
    "    beta = 978.23\n",
    "    it_costs = alpha * np.sqrt(len(sellers_df)) + beta * np.sqrt(sellers_df['quantity'].sum())\n",
    "\n",
    "    total_profits = sellers_df['profits'].sum() - it_costs\n",
    "    total_revenues = sellers_df['revenues'].sum()\n",
    "    profit_margin = (total_profits / total_revenues) * 100\n",
    "\n",
    "    profits = sellers_df['profits'].sum() - it_costs\n",
    "\n",
    "    return it_costs, profit_margin, profits\n",
    "\n",
    "def optimal_n(sellers_df):\n",
    "    # Initial profit margin and profits before removing any sellers\n",
    "    total_profits = sellers_df['profits'].sum() - 500000\n",
    "    total_revenues = sellers_df['revenues'].sum()\n",
    "    initial_profit_margin = (total_profits / total_revenues) * 100\n",
    "\n",
    "    initial_profits = sellers_df['profits'].sum() - 500000\n",
    "\n",
    "    #profit_margin and profits after removing i sellers\n",
    "    optimal_profit_margin = initial_profit_margin\n",
    "    optimal_profits = initial_profits\n",
    "    optimal_n_sellers = 0\n",
    "\n",
    "    for i in range(len(sellers_df)):\n",
    "        # Update IT costs, profit_margin, profits by removing i seller\n",
    "        it_costs, profit_margin, profits = updated(sellers_df, i)\n",
    "\n",
    "        # Check if current scenario improves profit margin and profits\n",
    "        if profit_margin > optimal_profit_margin and profits > optimal_profits:\n",
    "            optimal_profit_margin = profit_margin\n",
    "            optimal_profits = profits\n",
    "            optimal_n_sellers = i + 1  # Number of removed sellers\n",
    "\n",
    "\n",
    "    return initial_profit_margin, initial_profits, optimal_n_sellers, optimal_profit_margin, optimal_profits\n",
    "\n",
    "# Execute the code\n",
    "initial_profit_margin, initial_profits, optimal_n_sellers, profit_margin, profits = optimal_n(sellers_df)\n",
    "\n",
    "# Print the results\n",
    "print(\"Initial profit margin:\", initial_profit_margin)\n",
    "print(\"Initial profit:\", initial_profits)\n",
    "print(\"Optimal number of sellers to remove:\", optimal_n_sellers)\n",
    "print(\"Optimal profit margin:\", profit_margin)\n",
    "print(\"Optimal profits:\", profits)\n",
    "\n",
    "dfs = []\n",
    "\n",
    "for i in range(len(sellers_df)):\n",
    "    # Update IT costs, profit_margin, profits by removing i seller\n",
    "    it_costs, profit_margin, profits = updated(sellers_df, i)\n",
    "\n",
    "    # Create a DataFrame for current iteration\n",
    "    df = pd.DataFrame({'number_seller_removed': [i], 'profit_margin': [profit_margin], 'profits': [profits]})\n",
    "\n",
    "    # Append the DataFrame to the list\n",
    "    dfs.append(df)\n",
    "\n",
    "# Concatenate all DataFrames in the list\n",
    "results_df = pd.concat(dfs, ignore_index=True)\n",
    "results_df.set_index('number_seller_removed', inplace=True)\n",
    "results_df = round(results_df, 2)\n",
    "bins = range(0, len(results_df), 100)\n",
    "\n",
    "# Create a new column in your DataFrame that specifies the bin each row belongs to\n",
    "results_df['bin'] = pd.cut(results_df.index, bins=bins, right=False)\n",
    "\n",
    "# Group by the 'bin' column and calculate the mean for each bin\n",
    "grouped_df = round(results_df.groupby('bin').mean(), 2)\n",
    "\n",
    "# Rename the index name from 'bin' to 'number_seller_removed'\n",
    "grouped_df = grouped_df.rename_axis('number_seller_removed')\n",
    "grouped_df"
   ]
  },
  {
   "cell_type": "markdown",
   "id": "af7fa3d1",
   "metadata": {
    "slideshow": {
     "slide_type": "slide"
    }
   },
   "source": [
    "# **How could Olist improve its profit** ❓"
   ]
  },
  {
   "cell_type": "markdown",
   "id": "d8ff3ed9",
   "metadata": {
    "slideshow": {
     "slide_type": "slide"
    }
   },
   "source": [
    "## What can influence Olist's profit"
   ]
  },
  {
   "cell_type": "markdown",
   "id": "e9f48d1f",
   "metadata": {
    "slideshow": {
     "slide_type": "subslide"
    }
   },
   "source": [
    "- `wait_time` is the most significant factor behind low review scores  \n",
    "- `wait_time` is made up of seller's `delay_to_carrier` + `carrier_delivery_time`.  \n",
    "- Comments of the bad reviews showed that some were linked to the `seller` or to the `product` itself."
   ]
  },
  {
   "cell_type": "markdown",
   "id": "df85a281",
   "metadata": {
    "slideshow": {
     "slide_type": "slide"
    }
   },
   "source": [
    "## Should Olist remove under-performing sellers from its marketplace?"
   ]
  },
  {
   "cell_type": "markdown",
   "id": "98f3fa4c",
   "metadata": {
    "slideshow": {
     "slide_type": "subslide"
    }
   },
   "source": [
    "### Revenues\n",
    "Sales fees: Olist takes a 10% cut on the product price (excl. freight) of each order delivered\\\n",
    "Subscription fees: Olist charges 80 BRL by month per seller"
   ]
  },
  {
   "cell_type": "markdown",
   "id": "50a5c4c0",
   "metadata": {
    "slideshow": {
     "slide_type": "subslide"
    }
   },
   "source": [
    "### Costs\n",
    "**Reputation costs** *estimated* per order with bad reviews (<= 3 stars)  \n",
    "\n",
    "💡 In the long term, bad customer experience has business implications: low repeat rate, immediate customer support cost, refunds or unfavorable word of mouth communication. We will assume that we have an estimate measure of the monetary cost for each bad review:\n",
    "```python\n",
    "# review_score: cost(BRL)\n",
    "{'1 star': 100\n",
    "'2 stars': 50\n",
    "'3 stars': 40\n",
    "'4 stars': 0\n",
    "'5 stars': 0}\n",
    "```\n",
    "\n",
    "**IT costs:** Olist's **total cumulated IT Costs** scale with the square root of the total number of sellers that has ever join the platform, as well as the square root of the total cumulated number of items that were ever sold. \\\n",
    "\\\n",
    "IT_costs = α * √n_sellers + β * √n_items/\n",
    "Olist's data team gave us the following values for these scaling parameters:\n",
    "- $\\alpha = 3157.27$\n",
    "- $\\beta = 978.23$\n",
    "\n",
    "💡 Both number of sellers to manage and sales transaction are costly for IT systems.  \n",
    "💡 Yet square roots reflect scale-effects: IT-system are often more efficient as they grow bigger.  \n",
    "💡 Alpha > Beta means that Olist has a lower IT Cost with few sellers selling a lot of items rather than the opposite  \n",
    "- with **1000 sellers** and a total of **100 items** sold, the total IT cost accumulates to 109,624 BRL\n",
    "- with **100 sellers** and a total of **1000 items** sold, the total IT cost accumulates to 62,507 BRL\n",
    "\n",
    "Finally, The IT department also told you that since the birth of the marketplace, cumulated IT costs have amounted to **500,000 BRL**."
   ]
  },
  {
   "cell_type": "markdown",
   "id": "84c52be5",
   "metadata": {
    "slideshow": {
     "slide_type": "subslide"
    }
   },
   "source": [
    "## we performed a what-if analysis\n",
    "\n",
    "What would have happened if Olist had never accepted these sellers in the first place?"
   ]
  },
  {
   "cell_type": "code",
   "execution_count": 41,
   "id": "3bfe8ace",
   "metadata": {
    "scrolled": false,
    "slideshow": {
     "slide_type": "skip"
    }
   },
   "outputs": [
    {
     "name": "stdout",
     "output_type": "stream",
     "text": [
      "Initial profit: 667609.13\n",
      "Initial margin profit: 23.96\n"
     ]
    }
   ],
   "source": [
    "print(\"Initial profit: \" + str(results_df.iloc[0, 1]))\n",
    "print(\"Initial margin profit: \" + str(results_df.iloc[0, 0]))\n"
   ]
  },
  {
   "cell_type": "markdown",
   "id": "4c18023f",
   "metadata": {
    "slideshow": {
     "slide_type": "subslide"
    }
   },
   "source": [
    "### Profit Summary\n",
    "- **Initial Profit Margin:** 23.96\n",
    "- **Initial Profit:** $667,608.44"
   ]
  },
  {
   "cell_type": "code",
   "execution_count": 42,
   "id": "b72388a9",
   "metadata": {
    "slideshow": {
     "slide_type": "subslide"
    }
   },
   "outputs": [
    {
     "data": {
      "text/html": [
       "<style type=\"text/css\">\n",
       "#T_251d2_row0_col0, #T_251d2_row0_col1 {\n",
       "  color: black;\n",
       "}\n",
       "#T_251d2_row1_col0, #T_251d2_row1_col1, #T_251d2_row2_col0, #T_251d2_row2_col1, #T_251d2_row3_col0, #T_251d2_row3_col1, #T_251d2_row4_col0, #T_251d2_row4_col1, #T_251d2_row5_col0, #T_251d2_row5_col1, #T_251d2_row6_col0, #T_251d2_row6_col1, #T_251d2_row7_col0, #T_251d2_row7_col1, #T_251d2_row8_col0, #T_251d2_row8_col1, #T_251d2_row9_col0, #T_251d2_row10_col0, #T_251d2_row11_col0, #T_251d2_row12_col0, #T_251d2_row13_col0, #T_251d2_row14_col0 {\n",
       "  color: green;\n",
       "}\n",
       "#T_251d2_row9_col1, #T_251d2_row10_col1, #T_251d2_row11_col1, #T_251d2_row12_col1, #T_251d2_row13_col1, #T_251d2_row14_col1 {\n",
       "  color: red;\n",
       "}\n",
       "</style>\n",
       "<table id=\"T_251d2\">\n",
       "  <thead>\n",
       "    <tr>\n",
       "      <th class=\"blank level0\" >&nbsp;</th>\n",
       "      <th id=\"T_251d2_level0_col0\" class=\"col_heading level0 col0\" >profit_margin</th>\n",
       "      <th id=\"T_251d2_level0_col1\" class=\"col_heading level0 col1\" >profits</th>\n",
       "    </tr>\n",
       "    <tr>\n",
       "      <th class=\"index_name level0\" >number_seller_removed</th>\n",
       "      <th class=\"blank col0\" >&nbsp;</th>\n",
       "      <th class=\"blank col1\" >&nbsp;</th>\n",
       "    </tr>\n",
       "  </thead>\n",
       "  <tbody>\n",
       "    <tr>\n",
       "      <th id=\"T_251d2_level0_row0\" class=\"row_heading level0 row0\" >[0, 100)</th>\n",
       "      <td id=\"T_251d2_row0_col0\" class=\"data row0 col0\" >36.550000</td>\n",
       "      <td id=\"T_251d2_row0_col1\" class=\"data row0 col1\" >928820.030000</td>\n",
       "    </tr>\n",
       "    <tr>\n",
       "      <th id=\"T_251d2_level0_row1\" class=\"row_heading level0 row1\" >[100, 200)</th>\n",
       "      <td id=\"T_251d2_row1_col0\" class=\"data row1 col0\" >43.560000</td>\n",
       "      <td id=\"T_251d2_row1_col1\" class=\"data row1 col1\" >1031749.980000</td>\n",
       "    </tr>\n",
       "    <tr>\n",
       "      <th id=\"T_251d2_level0_row2\" class=\"row_heading level0 row2\" >[200, 300)</th>\n",
       "      <td id=\"T_251d2_row2_col0\" class=\"data row2 col0\" >45.020000</td>\n",
       "      <td id=\"T_251d2_row2_col1\" class=\"data row2 col1\" >1049895.070000</td>\n",
       "    </tr>\n",
       "    <tr>\n",
       "      <th id=\"T_251d2_level0_row3\" class=\"row_heading level0 row3\" >[300, 400)</th>\n",
       "      <td id=\"T_251d2_row3_col0\" class=\"data row3 col0\" >45.660000</td>\n",
       "      <td id=\"T_251d2_row3_col1\" class=\"data row3 col1\" >1057949.380000</td>\n",
       "    </tr>\n",
       "    <tr>\n",
       "      <th id=\"T_251d2_level0_row4\" class=\"row_heading level0 row4\" >[400, 500)</th>\n",
       "      <td id=\"T_251d2_row4_col0\" class=\"data row4 col0\" >45.970000</td>\n",
       "      <td id=\"T_251d2_row4_col1\" class=\"data row4 col1\" >1061889.750000</td>\n",
       "    </tr>\n",
       "    <tr>\n",
       "      <th id=\"T_251d2_level0_row5\" class=\"row_heading level0 row5\" >[500, 600)</th>\n",
       "      <td id=\"T_251d2_row5_col0\" class=\"data row5 col0\" >46.130000</td>\n",
       "      <td id=\"T_251d2_row5_col1\" class=\"data row5 col1\" >1064809.670000</td>\n",
       "    </tr>\n",
       "    <tr>\n",
       "      <th id=\"T_251d2_level0_row6\" class=\"row_heading level0 row6\" >[600, 700)</th>\n",
       "      <td id=\"T_251d2_row6_col0\" class=\"data row6 col0\" >46.310000</td>\n",
       "      <td id=\"T_251d2_row6_col1\" class=\"data row6 col1\" >1067376.120000</td>\n",
       "    </tr>\n",
       "    <tr>\n",
       "      <th id=\"T_251d2_level0_row7\" class=\"row_heading level0 row7\" >[700, 800)</th>\n",
       "      <td id=\"T_251d2_row7_col0\" class=\"data row7 col0\" >46.490000</td>\n",
       "      <td id=\"T_251d2_row7_col1\" class=\"data row7 col1\" >1069357.840000</td>\n",
       "    </tr>\n",
       "    <tr>\n",
       "      <th id=\"T_251d2_level0_row8\" class=\"row_heading level0 row8\" >[800, 900)</th>\n",
       "      <td id=\"T_251d2_row8_col0\" class=\"data row8 col0\" >46.810000</td>\n",
       "      <td id=\"T_251d2_row8_col1\" class=\"data row8 col1\" >1070512.320000</td>\n",
       "    </tr>\n",
       "    <tr>\n",
       "      <th id=\"T_251d2_level0_row9\" class=\"row_heading level0 row9\" >[900, 1000)</th>\n",
       "      <td id=\"T_251d2_row9_col0\" class=\"data row9 col0\" >47.290000</td>\n",
       "      <td id=\"T_251d2_row9_col1\" class=\"data row9 col1\" >1069726.670000</td>\n",
       "    </tr>\n",
       "    <tr>\n",
       "      <th id=\"T_251d2_level0_row10\" class=\"row_heading level0 row10\" >[1000, 1100)</th>\n",
       "      <td id=\"T_251d2_row10_col0\" class=\"data row10 col0\" >47.670000</td>\n",
       "      <td id=\"T_251d2_row10_col1\" class=\"data row10 col1\" >1066313.630000</td>\n",
       "    </tr>\n",
       "    <tr>\n",
       "      <th id=\"T_251d2_level0_row11\" class=\"row_heading level0 row11\" >[1100, 1200)</th>\n",
       "      <td id=\"T_251d2_row11_col0\" class=\"data row11 col0\" >47.900000</td>\n",
       "      <td id=\"T_251d2_row11_col1\" class=\"data row11 col1\" >1059661.100000</td>\n",
       "    </tr>\n",
       "    <tr>\n",
       "      <th id=\"T_251d2_level0_row12\" class=\"row_heading level0 row12\" >[1200, 1300)</th>\n",
       "      <td id=\"T_251d2_row12_col0\" class=\"data row12 col0\" >48.210000</td>\n",
       "      <td id=\"T_251d2_row12_col1\" class=\"data row12 col1\" >1050576.950000</td>\n",
       "    </tr>\n",
       "    <tr>\n",
       "      <th id=\"T_251d2_level0_row13\" class=\"row_heading level0 row13\" >[1300, 1400)</th>\n",
       "      <td id=\"T_251d2_row13_col0\" class=\"data row13 col0\" >48.590000</td>\n",
       "      <td id=\"T_251d2_row13_col1\" class=\"data row13 col1\" >1038906.330000</td>\n",
       "    </tr>\n",
       "    <tr>\n",
       "      <th id=\"T_251d2_level0_row14\" class=\"row_heading level0 row14\" >[1400, 1500)</th>\n",
       "      <td id=\"T_251d2_row14_col0\" class=\"data row14 col0\" >48.800000</td>\n",
       "      <td id=\"T_251d2_row14_col1\" class=\"data row14 col1\" >1023101.020000</td>\n",
       "    </tr>\n",
       "  </tbody>\n",
       "</table>\n"
      ],
      "text/plain": [
       "<pandas.io.formats.style.Styler at 0x3332dfb50>"
      ]
     },
     "execution_count": 42,
     "metadata": {},
     "output_type": "execute_result"
    }
   ],
   "source": [
    "def style_red_or_green(s):\n",
    "    styles = []\n",
    "    for i in range(len(s)):\n",
    "        if i > 0:\n",
    "            if s.iloc[i] < s.iloc[i-1]:\n",
    "                styles.append('color: red')\n",
    "            elif s.iloc[i] > s.iloc[i-1]:\n",
    "                styles.append('color: green')\n",
    "            else:\n",
    "                styles.append('color: black')\n",
    "        else:\n",
    "            styles.append('color: black')\n",
    "    return styles\n",
    "\n",
    "styled_df = grouped_df.iloc[0:15].style.apply(style_red_or_green)\n",
    "styled_df\n"
   ]
  },
  {
   "cell_type": "code",
   "execution_count": 56,
   "id": "3f8b9764",
   "metadata": {
    "scrolled": false,
    "slideshow": {
     "slide_type": "skip"
    }
   },
   "outputs": [
    {
     "data": {
      "application/vnd.plotly.v1+json": {
       "config": {
        "linkText": "Export to plot.ly",
        "plotlyServerURL": "https://plot.ly",
        "showLink": false
       },
       "data": [
        {
         "mode": "lines+markers",
         "name": "Average Profit Margin",
         "type": "scatter",
         "x": [
          "[0, 100)",
          "[100, 200)",
          "[200, 300)",
          "[300, 400)",
          "[400, 500)",
          "[500, 600)",
          "[600, 700)",
          "[700, 800)",
          "[800, 900)",
          "[900, 1000)",
          "[1000, 1100)",
          "[1100, 1200)",
          "[1200, 1300)",
          "[1300, 1400)",
          "[1400, 1500)",
          "[1500, 1600)",
          "[1600, 1700)",
          "[1700, 1800)",
          "[1800, 1900)",
          "[1900, 2000)",
          "[2000, 2100)",
          "[2100, 2200)",
          "[2200, 2300)",
          "[2300, 2400)",
          "[2400, 2500)",
          "[2500, 2600)",
          "[2600, 2700)",
          "[2700, 2800)",
          "[2800, 2900)"
         ],
         "y": [
          36.55,
          43.56,
          45.02,
          45.66,
          45.97,
          46.13,
          46.31,
          46.49,
          46.81,
          47.29,
          47.67,
          47.9,
          48.21,
          48.59,
          48.8,
          48.83,
          48.98,
          49.06,
          49.14,
          49.47,
          49.66,
          49.53,
          49.55,
          48.96,
          48.28,
          47.06,
          45.85,
          44.43,
          39.29
         ],
         "yaxis": "y"
        },
        {
         "mode": "lines+markers",
         "name": "Average Profits",
         "type": "scatter",
         "x": [
          "[0, 100)",
          "[100, 200)",
          "[200, 300)",
          "[300, 400)",
          "[400, 500)",
          "[500, 600)",
          "[600, 700)",
          "[700, 800)",
          "[800, 900)",
          "[900, 1000)",
          "[1000, 1100)",
          "[1100, 1200)",
          "[1200, 1300)",
          "[1300, 1400)",
          "[1400, 1500)",
          "[1500, 1600)",
          "[1600, 1700)",
          "[1700, 1800)",
          "[1800, 1900)",
          "[1900, 2000)",
          "[2000, 2100)",
          "[2100, 2200)",
          "[2200, 2300)",
          "[2300, 2400)",
          "[2400, 2500)",
          "[2500, 2600)",
          "[2600, 2700)",
          "[2700, 2800)",
          "[2800, 2900)"
         ],
         "y": [
          928820.03,
          1031749.98,
          1049895.07,
          1057949.38,
          1061889.75,
          1064809.67,
          1067376.12,
          1069357.84,
          1070512.32,
          1069726.67,
          1066313.63,
          1059661.1,
          1050576.95,
          1038906.33,
          1023101.02,
          1003558.72,
          981754.89,
          956113.66,
          925812.81,
          892417.28,
          853014.9,
          806134.74,
          753706.64,
          691126.11,
          620657.71,
          539152,
          448833.78,
          346256.35,
          219465.16
         ],
         "yaxis": "y2"
        }
       ],
       "layout": {
        "annotations": [
         {
          "arrowhead": 7,
          "ax": 0,
          "ay": -40,
          "showarrow": true,
          "text": "Margin Decrease",
          "x": "[2000, 2100)",
          "xref": "x",
          "y": 49.66,
          "yref": "y"
         },
         {
          "arrowhead": 7,
          "ax": 0,
          "ay": -40,
          "showarrow": true,
          "text": "Profit Decrease",
          "x": "[800, 900)",
          "xref": "x",
          "y": 1070512.32,
          "yref": "y2"
         }
        ],
        "template": {
         "data": {
          "bar": [
           {
            "error_x": {
             "color": "#2a3f5f"
            },
            "error_y": {
             "color": "#2a3f5f"
            },
            "marker": {
             "line": {
              "color": "#E5ECF6",
              "width": 0.5
             },
             "pattern": {
              "fillmode": "overlay",
              "size": 10,
              "solidity": 0.2
             }
            },
            "type": "bar"
           }
          ],
          "barpolar": [
           {
            "marker": {
             "line": {
              "color": "#E5ECF6",
              "width": 0.5
             },
             "pattern": {
              "fillmode": "overlay",
              "size": 10,
              "solidity": 0.2
             }
            },
            "type": "barpolar"
           }
          ],
          "carpet": [
           {
            "aaxis": {
             "endlinecolor": "#2a3f5f",
             "gridcolor": "white",
             "linecolor": "white",
             "minorgridcolor": "white",
             "startlinecolor": "#2a3f5f"
            },
            "baxis": {
             "endlinecolor": "#2a3f5f",
             "gridcolor": "white",
             "linecolor": "white",
             "minorgridcolor": "white",
             "startlinecolor": "#2a3f5f"
            },
            "type": "carpet"
           }
          ],
          "choropleth": [
           {
            "colorbar": {
             "outlinewidth": 0,
             "ticks": ""
            },
            "type": "choropleth"
           }
          ],
          "contour": [
           {
            "colorbar": {
             "outlinewidth": 0,
             "ticks": ""
            },
            "colorscale": [
             [
              0,
              "#0d0887"
             ],
             [
              0.1111111111111111,
              "#46039f"
             ],
             [
              0.2222222222222222,
              "#7201a8"
             ],
             [
              0.3333333333333333,
              "#9c179e"
             ],
             [
              0.4444444444444444,
              "#bd3786"
             ],
             [
              0.5555555555555556,
              "#d8576b"
             ],
             [
              0.6666666666666666,
              "#ed7953"
             ],
             [
              0.7777777777777778,
              "#fb9f3a"
             ],
             [
              0.8888888888888888,
              "#fdca26"
             ],
             [
              1,
              "#f0f921"
             ]
            ],
            "type": "contour"
           }
          ],
          "contourcarpet": [
           {
            "colorbar": {
             "outlinewidth": 0,
             "ticks": ""
            },
            "type": "contourcarpet"
           }
          ],
          "heatmap": [
           {
            "colorbar": {
             "outlinewidth": 0,
             "ticks": ""
            },
            "colorscale": [
             [
              0,
              "#0d0887"
             ],
             [
              0.1111111111111111,
              "#46039f"
             ],
             [
              0.2222222222222222,
              "#7201a8"
             ],
             [
              0.3333333333333333,
              "#9c179e"
             ],
             [
              0.4444444444444444,
              "#bd3786"
             ],
             [
              0.5555555555555556,
              "#d8576b"
             ],
             [
              0.6666666666666666,
              "#ed7953"
             ],
             [
              0.7777777777777778,
              "#fb9f3a"
             ],
             [
              0.8888888888888888,
              "#fdca26"
             ],
             [
              1,
              "#f0f921"
             ]
            ],
            "type": "heatmap"
           }
          ],
          "heatmapgl": [
           {
            "colorbar": {
             "outlinewidth": 0,
             "ticks": ""
            },
            "colorscale": [
             [
              0,
              "#0d0887"
             ],
             [
              0.1111111111111111,
              "#46039f"
             ],
             [
              0.2222222222222222,
              "#7201a8"
             ],
             [
              0.3333333333333333,
              "#9c179e"
             ],
             [
              0.4444444444444444,
              "#bd3786"
             ],
             [
              0.5555555555555556,
              "#d8576b"
             ],
             [
              0.6666666666666666,
              "#ed7953"
             ],
             [
              0.7777777777777778,
              "#fb9f3a"
             ],
             [
              0.8888888888888888,
              "#fdca26"
             ],
             [
              1,
              "#f0f921"
             ]
            ],
            "type": "heatmapgl"
           }
          ],
          "histogram": [
           {
            "marker": {
             "pattern": {
              "fillmode": "overlay",
              "size": 10,
              "solidity": 0.2
             }
            },
            "type": "histogram"
           }
          ],
          "histogram2d": [
           {
            "colorbar": {
             "outlinewidth": 0,
             "ticks": ""
            },
            "colorscale": [
             [
              0,
              "#0d0887"
             ],
             [
              0.1111111111111111,
              "#46039f"
             ],
             [
              0.2222222222222222,
              "#7201a8"
             ],
             [
              0.3333333333333333,
              "#9c179e"
             ],
             [
              0.4444444444444444,
              "#bd3786"
             ],
             [
              0.5555555555555556,
              "#d8576b"
             ],
             [
              0.6666666666666666,
              "#ed7953"
             ],
             [
              0.7777777777777778,
              "#fb9f3a"
             ],
             [
              0.8888888888888888,
              "#fdca26"
             ],
             [
              1,
              "#f0f921"
             ]
            ],
            "type": "histogram2d"
           }
          ],
          "histogram2dcontour": [
           {
            "colorbar": {
             "outlinewidth": 0,
             "ticks": ""
            },
            "colorscale": [
             [
              0,
              "#0d0887"
             ],
             [
              0.1111111111111111,
              "#46039f"
             ],
             [
              0.2222222222222222,
              "#7201a8"
             ],
             [
              0.3333333333333333,
              "#9c179e"
             ],
             [
              0.4444444444444444,
              "#bd3786"
             ],
             [
              0.5555555555555556,
              "#d8576b"
             ],
             [
              0.6666666666666666,
              "#ed7953"
             ],
             [
              0.7777777777777778,
              "#fb9f3a"
             ],
             [
              0.8888888888888888,
              "#fdca26"
             ],
             [
              1,
              "#f0f921"
             ]
            ],
            "type": "histogram2dcontour"
           }
          ],
          "mesh3d": [
           {
            "colorbar": {
             "outlinewidth": 0,
             "ticks": ""
            },
            "type": "mesh3d"
           }
          ],
          "parcoords": [
           {
            "line": {
             "colorbar": {
              "outlinewidth": 0,
              "ticks": ""
             }
            },
            "type": "parcoords"
           }
          ],
          "pie": [
           {
            "automargin": true,
            "type": "pie"
           }
          ],
          "scatter": [
           {
            "fillpattern": {
             "fillmode": "overlay",
             "size": 10,
             "solidity": 0.2
            },
            "type": "scatter"
           }
          ],
          "scatter3d": [
           {
            "line": {
             "colorbar": {
              "outlinewidth": 0,
              "ticks": ""
             }
            },
            "marker": {
             "colorbar": {
              "outlinewidth": 0,
              "ticks": ""
             }
            },
            "type": "scatter3d"
           }
          ],
          "scattercarpet": [
           {
            "marker": {
             "colorbar": {
              "outlinewidth": 0,
              "ticks": ""
             }
            },
            "type": "scattercarpet"
           }
          ],
          "scattergeo": [
           {
            "marker": {
             "colorbar": {
              "outlinewidth": 0,
              "ticks": ""
             }
            },
            "type": "scattergeo"
           }
          ],
          "scattergl": [
           {
            "marker": {
             "colorbar": {
              "outlinewidth": 0,
              "ticks": ""
             }
            },
            "type": "scattergl"
           }
          ],
          "scattermapbox": [
           {
            "marker": {
             "colorbar": {
              "outlinewidth": 0,
              "ticks": ""
             }
            },
            "type": "scattermapbox"
           }
          ],
          "scatterpolar": [
           {
            "marker": {
             "colorbar": {
              "outlinewidth": 0,
              "ticks": ""
             }
            },
            "type": "scatterpolar"
           }
          ],
          "scatterpolargl": [
           {
            "marker": {
             "colorbar": {
              "outlinewidth": 0,
              "ticks": ""
             }
            },
            "type": "scatterpolargl"
           }
          ],
          "scatterternary": [
           {
            "marker": {
             "colorbar": {
              "outlinewidth": 0,
              "ticks": ""
             }
            },
            "type": "scatterternary"
           }
          ],
          "surface": [
           {
            "colorbar": {
             "outlinewidth": 0,
             "ticks": ""
            },
            "colorscale": [
             [
              0,
              "#0d0887"
             ],
             [
              0.1111111111111111,
              "#46039f"
             ],
             [
              0.2222222222222222,
              "#7201a8"
             ],
             [
              0.3333333333333333,
              "#9c179e"
             ],
             [
              0.4444444444444444,
              "#bd3786"
             ],
             [
              0.5555555555555556,
              "#d8576b"
             ],
             [
              0.6666666666666666,
              "#ed7953"
             ],
             [
              0.7777777777777778,
              "#fb9f3a"
             ],
             [
              0.8888888888888888,
              "#fdca26"
             ],
             [
              1,
              "#f0f921"
             ]
            ],
            "type": "surface"
           }
          ],
          "table": [
           {
            "cells": {
             "fill": {
              "color": "#EBF0F8"
             },
             "line": {
              "color": "white"
             }
            },
            "header": {
             "fill": {
              "color": "#C8D4E3"
             },
             "line": {
              "color": "white"
             }
            },
            "type": "table"
           }
          ]
         },
         "layout": {
          "annotationdefaults": {
           "arrowcolor": "#2a3f5f",
           "arrowhead": 0,
           "arrowwidth": 1
          },
          "autotypenumbers": "strict",
          "coloraxis": {
           "colorbar": {
            "outlinewidth": 0,
            "ticks": ""
           }
          },
          "colorscale": {
           "diverging": [
            [
             0,
             "#8e0152"
            ],
            [
             0.1,
             "#c51b7d"
            ],
            [
             0.2,
             "#de77ae"
            ],
            [
             0.3,
             "#f1b6da"
            ],
            [
             0.4,
             "#fde0ef"
            ],
            [
             0.5,
             "#f7f7f7"
            ],
            [
             0.6,
             "#e6f5d0"
            ],
            [
             0.7,
             "#b8e186"
            ],
            [
             0.8,
             "#7fbc41"
            ],
            [
             0.9,
             "#4d9221"
            ],
            [
             1,
             "#276419"
            ]
           ],
           "sequential": [
            [
             0,
             "#0d0887"
            ],
            [
             0.1111111111111111,
             "#46039f"
            ],
            [
             0.2222222222222222,
             "#7201a8"
            ],
            [
             0.3333333333333333,
             "#9c179e"
            ],
            [
             0.4444444444444444,
             "#bd3786"
            ],
            [
             0.5555555555555556,
             "#d8576b"
            ],
            [
             0.6666666666666666,
             "#ed7953"
            ],
            [
             0.7777777777777778,
             "#fb9f3a"
            ],
            [
             0.8888888888888888,
             "#fdca26"
            ],
            [
             1,
             "#f0f921"
            ]
           ],
           "sequentialminus": [
            [
             0,
             "#0d0887"
            ],
            [
             0.1111111111111111,
             "#46039f"
            ],
            [
             0.2222222222222222,
             "#7201a8"
            ],
            [
             0.3333333333333333,
             "#9c179e"
            ],
            [
             0.4444444444444444,
             "#bd3786"
            ],
            [
             0.5555555555555556,
             "#d8576b"
            ],
            [
             0.6666666666666666,
             "#ed7953"
            ],
            [
             0.7777777777777778,
             "#fb9f3a"
            ],
            [
             0.8888888888888888,
             "#fdca26"
            ],
            [
             1,
             "#f0f921"
            ]
           ]
          },
          "colorway": [
           "#636efa",
           "#EF553B",
           "#00cc96",
           "#ab63fa",
           "#FFA15A",
           "#19d3f3",
           "#FF6692",
           "#B6E880",
           "#FF97FF",
           "#FECB52"
          ],
          "font": {
           "color": "#2a3f5f"
          },
          "geo": {
           "bgcolor": "white",
           "lakecolor": "white",
           "landcolor": "#E5ECF6",
           "showlakes": true,
           "showland": true,
           "subunitcolor": "white"
          },
          "hoverlabel": {
           "align": "left"
          },
          "hovermode": "closest",
          "mapbox": {
           "style": "light"
          },
          "paper_bgcolor": "white",
          "plot_bgcolor": "#E5ECF6",
          "polar": {
           "angularaxis": {
            "gridcolor": "white",
            "linecolor": "white",
            "ticks": ""
           },
           "bgcolor": "#E5ECF6",
           "radialaxis": {
            "gridcolor": "white",
            "linecolor": "white",
            "ticks": ""
           }
          },
          "scene": {
           "xaxis": {
            "backgroundcolor": "#E5ECF6",
            "gridcolor": "white",
            "gridwidth": 2,
            "linecolor": "white",
            "showbackground": true,
            "ticks": "",
            "zerolinecolor": "white"
           },
           "yaxis": {
            "backgroundcolor": "#E5ECF6",
            "gridcolor": "white",
            "gridwidth": 2,
            "linecolor": "white",
            "showbackground": true,
            "ticks": "",
            "zerolinecolor": "white"
           },
           "zaxis": {
            "backgroundcolor": "#E5ECF6",
            "gridcolor": "white",
            "gridwidth": 2,
            "linecolor": "white",
            "showbackground": true,
            "ticks": "",
            "zerolinecolor": "white"
           }
          },
          "shapedefaults": {
           "line": {
            "color": "#2a3f5f"
           }
          },
          "ternary": {
           "aaxis": {
            "gridcolor": "white",
            "linecolor": "white",
            "ticks": ""
           },
           "baxis": {
            "gridcolor": "white",
            "linecolor": "white",
            "ticks": ""
           },
           "bgcolor": "#E5ECF6",
           "caxis": {
            "gridcolor": "white",
            "linecolor": "white",
            "ticks": ""
           }
          },
          "title": {
           "x": 0.05
          },
          "xaxis": {
           "automargin": true,
           "gridcolor": "white",
           "linecolor": "white",
           "ticks": "",
           "title": {
            "standoff": 15
           },
           "zerolinecolor": "white",
           "zerolinewidth": 2
          },
          "yaxis": {
           "automargin": true,
           "gridcolor": "white",
           "linecolor": "white",
           "ticks": "",
           "title": {
            "standoff": 15
           },
           "zerolinecolor": "white",
           "zerolinewidth": 2
          }
         }
        },
        "title": {
         "text": "Profit Margin and Profits (Bucket of 100)"
        },
        "xaxis": {
         "title": {
          "text": "Bins"
         }
        },
        "yaxis": {
         "color": "blue",
         "range": [
          35.55,
          50.66
         ],
         "side": "left",
         "title": {
          "text": "Profit Margin"
         }
        },
        "yaxis2": {
         "color": "red",
         "overlaying": "y",
         "range": [
          119465.16,
          1170512.32
         ],
         "side": "right",
         "title": {
          "text": "Profits"
         }
        }
       }
      },
      "text/html": [
       "<div>                            <div id=\"2a8361be-f469-4360-ab94-df8d55f9e98d\" class=\"plotly-graph-div\" style=\"height:525px; width:100%;\"></div>            <script type=\"text/javascript\">                require([\"plotly\"], function(Plotly) {                    window.PLOTLYENV=window.PLOTLYENV || {};                                    if (document.getElementById(\"2a8361be-f469-4360-ab94-df8d55f9e98d\")) {                    Plotly.newPlot(                        \"2a8361be-f469-4360-ab94-df8d55f9e98d\",                        [{\"mode\":\"lines+markers\",\"name\":\"Average Profit Margin\",\"x\":[\"[0, 100)\",\"[100, 200)\",\"[200, 300)\",\"[300, 400)\",\"[400, 500)\",\"[500, 600)\",\"[600, 700)\",\"[700, 800)\",\"[800, 900)\",\"[900, 1000)\",\"[1000, 1100)\",\"[1100, 1200)\",\"[1200, 1300)\",\"[1300, 1400)\",\"[1400, 1500)\",\"[1500, 1600)\",\"[1600, 1700)\",\"[1700, 1800)\",\"[1800, 1900)\",\"[1900, 2000)\",\"[2000, 2100)\",\"[2100, 2200)\",\"[2200, 2300)\",\"[2300, 2400)\",\"[2400, 2500)\",\"[2500, 2600)\",\"[2600, 2700)\",\"[2700, 2800)\",\"[2800, 2900)\"],\"y\":[36.55,43.56,45.02,45.66,45.97,46.13,46.31,46.49,46.81,47.29,47.67,47.9,48.21,48.59,48.8,48.83,48.98,49.06,49.14,49.47,49.66,49.53,49.55,48.96,48.28,47.06,45.85,44.43,39.29],\"yaxis\":\"y\",\"type\":\"scatter\"},{\"mode\":\"lines+markers\",\"name\":\"Average Profits\",\"x\":[\"[0, 100)\",\"[100, 200)\",\"[200, 300)\",\"[300, 400)\",\"[400, 500)\",\"[500, 600)\",\"[600, 700)\",\"[700, 800)\",\"[800, 900)\",\"[900, 1000)\",\"[1000, 1100)\",\"[1100, 1200)\",\"[1200, 1300)\",\"[1300, 1400)\",\"[1400, 1500)\",\"[1500, 1600)\",\"[1600, 1700)\",\"[1700, 1800)\",\"[1800, 1900)\",\"[1900, 2000)\",\"[2000, 2100)\",\"[2100, 2200)\",\"[2200, 2300)\",\"[2300, 2400)\",\"[2400, 2500)\",\"[2500, 2600)\",\"[2600, 2700)\",\"[2700, 2800)\",\"[2800, 2900)\"],\"y\":[928820.03,1031749.98,1049895.07,1057949.38,1061889.75,1064809.67,1067376.12,1069357.84,1070512.32,1069726.67,1066313.63,1059661.1,1050576.95,1038906.33,1023101.02,1003558.72,981754.89,956113.66,925812.81,892417.28,853014.9,806134.74,753706.64,691126.11,620657.71,539152.0,448833.78,346256.35,219465.16],\"yaxis\":\"y2\",\"type\":\"scatter\"}],                        {\"annotations\":[{\"arrowhead\":7,\"ax\":0,\"ay\":-40,\"showarrow\":true,\"text\":\"Margin Decrease\",\"x\":\"[2000, 2100)\",\"xref\":\"x\",\"y\":49.66,\"yref\":\"y\"},{\"arrowhead\":7,\"ax\":0,\"ay\":-40,\"showarrow\":true,\"text\":\"Profit Decrease\",\"x\":\"[800, 900)\",\"xref\":\"x\",\"y\":1070512.32,\"yref\":\"y2\"}],\"template\":{\"data\":{\"barpolar\":[{\"marker\":{\"line\":{\"color\":\"#E5ECF6\",\"width\":0.5},\"pattern\":{\"fillmode\":\"overlay\",\"size\":10,\"solidity\":0.2}},\"type\":\"barpolar\"}],\"bar\":[{\"error_x\":{\"color\":\"#2a3f5f\"},\"error_y\":{\"color\":\"#2a3f5f\"},\"marker\":{\"line\":{\"color\":\"#E5ECF6\",\"width\":0.5},\"pattern\":{\"fillmode\":\"overlay\",\"size\":10,\"solidity\":0.2}},\"type\":\"bar\"}],\"carpet\":[{\"aaxis\":{\"endlinecolor\":\"#2a3f5f\",\"gridcolor\":\"white\",\"linecolor\":\"white\",\"minorgridcolor\":\"white\",\"startlinecolor\":\"#2a3f5f\"},\"baxis\":{\"endlinecolor\":\"#2a3f5f\",\"gridcolor\":\"white\",\"linecolor\":\"white\",\"minorgridcolor\":\"white\",\"startlinecolor\":\"#2a3f5f\"},\"type\":\"carpet\"}],\"choropleth\":[{\"colorbar\":{\"outlinewidth\":0,\"ticks\":\"\"},\"type\":\"choropleth\"}],\"contourcarpet\":[{\"colorbar\":{\"outlinewidth\":0,\"ticks\":\"\"},\"type\":\"contourcarpet\"}],\"contour\":[{\"colorbar\":{\"outlinewidth\":0,\"ticks\":\"\"},\"colorscale\":[[0.0,\"#0d0887\"],[0.1111111111111111,\"#46039f\"],[0.2222222222222222,\"#7201a8\"],[0.3333333333333333,\"#9c179e\"],[0.4444444444444444,\"#bd3786\"],[0.5555555555555556,\"#d8576b\"],[0.6666666666666666,\"#ed7953\"],[0.7777777777777778,\"#fb9f3a\"],[0.8888888888888888,\"#fdca26\"],[1.0,\"#f0f921\"]],\"type\":\"contour\"}],\"heatmapgl\":[{\"colorbar\":{\"outlinewidth\":0,\"ticks\":\"\"},\"colorscale\":[[0.0,\"#0d0887\"],[0.1111111111111111,\"#46039f\"],[0.2222222222222222,\"#7201a8\"],[0.3333333333333333,\"#9c179e\"],[0.4444444444444444,\"#bd3786\"],[0.5555555555555556,\"#d8576b\"],[0.6666666666666666,\"#ed7953\"],[0.7777777777777778,\"#fb9f3a\"],[0.8888888888888888,\"#fdca26\"],[1.0,\"#f0f921\"]],\"type\":\"heatmapgl\"}],\"heatmap\":[{\"colorbar\":{\"outlinewidth\":0,\"ticks\":\"\"},\"colorscale\":[[0.0,\"#0d0887\"],[0.1111111111111111,\"#46039f\"],[0.2222222222222222,\"#7201a8\"],[0.3333333333333333,\"#9c179e\"],[0.4444444444444444,\"#bd3786\"],[0.5555555555555556,\"#d8576b\"],[0.6666666666666666,\"#ed7953\"],[0.7777777777777778,\"#fb9f3a\"],[0.8888888888888888,\"#fdca26\"],[1.0,\"#f0f921\"]],\"type\":\"heatmap\"}],\"histogram2dcontour\":[{\"colorbar\":{\"outlinewidth\":0,\"ticks\":\"\"},\"colorscale\":[[0.0,\"#0d0887\"],[0.1111111111111111,\"#46039f\"],[0.2222222222222222,\"#7201a8\"],[0.3333333333333333,\"#9c179e\"],[0.4444444444444444,\"#bd3786\"],[0.5555555555555556,\"#d8576b\"],[0.6666666666666666,\"#ed7953\"],[0.7777777777777778,\"#fb9f3a\"],[0.8888888888888888,\"#fdca26\"],[1.0,\"#f0f921\"]],\"type\":\"histogram2dcontour\"}],\"histogram2d\":[{\"colorbar\":{\"outlinewidth\":0,\"ticks\":\"\"},\"colorscale\":[[0.0,\"#0d0887\"],[0.1111111111111111,\"#46039f\"],[0.2222222222222222,\"#7201a8\"],[0.3333333333333333,\"#9c179e\"],[0.4444444444444444,\"#bd3786\"],[0.5555555555555556,\"#d8576b\"],[0.6666666666666666,\"#ed7953\"],[0.7777777777777778,\"#fb9f3a\"],[0.8888888888888888,\"#fdca26\"],[1.0,\"#f0f921\"]],\"type\":\"histogram2d\"}],\"histogram\":[{\"marker\":{\"pattern\":{\"fillmode\":\"overlay\",\"size\":10,\"solidity\":0.2}},\"type\":\"histogram\"}],\"mesh3d\":[{\"colorbar\":{\"outlinewidth\":0,\"ticks\":\"\"},\"type\":\"mesh3d\"}],\"parcoords\":[{\"line\":{\"colorbar\":{\"outlinewidth\":0,\"ticks\":\"\"}},\"type\":\"parcoords\"}],\"pie\":[{\"automargin\":true,\"type\":\"pie\"}],\"scatter3d\":[{\"line\":{\"colorbar\":{\"outlinewidth\":0,\"ticks\":\"\"}},\"marker\":{\"colorbar\":{\"outlinewidth\":0,\"ticks\":\"\"}},\"type\":\"scatter3d\"}],\"scattercarpet\":[{\"marker\":{\"colorbar\":{\"outlinewidth\":0,\"ticks\":\"\"}},\"type\":\"scattercarpet\"}],\"scattergeo\":[{\"marker\":{\"colorbar\":{\"outlinewidth\":0,\"ticks\":\"\"}},\"type\":\"scattergeo\"}],\"scattergl\":[{\"marker\":{\"colorbar\":{\"outlinewidth\":0,\"ticks\":\"\"}},\"type\":\"scattergl\"}],\"scattermapbox\":[{\"marker\":{\"colorbar\":{\"outlinewidth\":0,\"ticks\":\"\"}},\"type\":\"scattermapbox\"}],\"scatterpolargl\":[{\"marker\":{\"colorbar\":{\"outlinewidth\":0,\"ticks\":\"\"}},\"type\":\"scatterpolargl\"}],\"scatterpolar\":[{\"marker\":{\"colorbar\":{\"outlinewidth\":0,\"ticks\":\"\"}},\"type\":\"scatterpolar\"}],\"scatter\":[{\"fillpattern\":{\"fillmode\":\"overlay\",\"size\":10,\"solidity\":0.2},\"type\":\"scatter\"}],\"scatterternary\":[{\"marker\":{\"colorbar\":{\"outlinewidth\":0,\"ticks\":\"\"}},\"type\":\"scatterternary\"}],\"surface\":[{\"colorbar\":{\"outlinewidth\":0,\"ticks\":\"\"},\"colorscale\":[[0.0,\"#0d0887\"],[0.1111111111111111,\"#46039f\"],[0.2222222222222222,\"#7201a8\"],[0.3333333333333333,\"#9c179e\"],[0.4444444444444444,\"#bd3786\"],[0.5555555555555556,\"#d8576b\"],[0.6666666666666666,\"#ed7953\"],[0.7777777777777778,\"#fb9f3a\"],[0.8888888888888888,\"#fdca26\"],[1.0,\"#f0f921\"]],\"type\":\"surface\"}],\"table\":[{\"cells\":{\"fill\":{\"color\":\"#EBF0F8\"},\"line\":{\"color\":\"white\"}},\"header\":{\"fill\":{\"color\":\"#C8D4E3\"},\"line\":{\"color\":\"white\"}},\"type\":\"table\"}]},\"layout\":{\"annotationdefaults\":{\"arrowcolor\":\"#2a3f5f\",\"arrowhead\":0,\"arrowwidth\":1},\"autotypenumbers\":\"strict\",\"coloraxis\":{\"colorbar\":{\"outlinewidth\":0,\"ticks\":\"\"}},\"colorscale\":{\"diverging\":[[0,\"#8e0152\"],[0.1,\"#c51b7d\"],[0.2,\"#de77ae\"],[0.3,\"#f1b6da\"],[0.4,\"#fde0ef\"],[0.5,\"#f7f7f7\"],[0.6,\"#e6f5d0\"],[0.7,\"#b8e186\"],[0.8,\"#7fbc41\"],[0.9,\"#4d9221\"],[1,\"#276419\"]],\"sequential\":[[0.0,\"#0d0887\"],[0.1111111111111111,\"#46039f\"],[0.2222222222222222,\"#7201a8\"],[0.3333333333333333,\"#9c179e\"],[0.4444444444444444,\"#bd3786\"],[0.5555555555555556,\"#d8576b\"],[0.6666666666666666,\"#ed7953\"],[0.7777777777777778,\"#fb9f3a\"],[0.8888888888888888,\"#fdca26\"],[1.0,\"#f0f921\"]],\"sequentialminus\":[[0.0,\"#0d0887\"],[0.1111111111111111,\"#46039f\"],[0.2222222222222222,\"#7201a8\"],[0.3333333333333333,\"#9c179e\"],[0.4444444444444444,\"#bd3786\"],[0.5555555555555556,\"#d8576b\"],[0.6666666666666666,\"#ed7953\"],[0.7777777777777778,\"#fb9f3a\"],[0.8888888888888888,\"#fdca26\"],[1.0,\"#f0f921\"]]},\"colorway\":[\"#636efa\",\"#EF553B\",\"#00cc96\",\"#ab63fa\",\"#FFA15A\",\"#19d3f3\",\"#FF6692\",\"#B6E880\",\"#FF97FF\",\"#FECB52\"],\"font\":{\"color\":\"#2a3f5f\"},\"geo\":{\"bgcolor\":\"white\",\"lakecolor\":\"white\",\"landcolor\":\"#E5ECF6\",\"showlakes\":true,\"showland\":true,\"subunitcolor\":\"white\"},\"hoverlabel\":{\"align\":\"left\"},\"hovermode\":\"closest\",\"mapbox\":{\"style\":\"light\"},\"paper_bgcolor\":\"white\",\"plot_bgcolor\":\"#E5ECF6\",\"polar\":{\"angularaxis\":{\"gridcolor\":\"white\",\"linecolor\":\"white\",\"ticks\":\"\"},\"bgcolor\":\"#E5ECF6\",\"radialaxis\":{\"gridcolor\":\"white\",\"linecolor\":\"white\",\"ticks\":\"\"}},\"scene\":{\"xaxis\":{\"backgroundcolor\":\"#E5ECF6\",\"gridcolor\":\"white\",\"gridwidth\":2,\"linecolor\":\"white\",\"showbackground\":true,\"ticks\":\"\",\"zerolinecolor\":\"white\"},\"yaxis\":{\"backgroundcolor\":\"#E5ECF6\",\"gridcolor\":\"white\",\"gridwidth\":2,\"linecolor\":\"white\",\"showbackground\":true,\"ticks\":\"\",\"zerolinecolor\":\"white\"},\"zaxis\":{\"backgroundcolor\":\"#E5ECF6\",\"gridcolor\":\"white\",\"gridwidth\":2,\"linecolor\":\"white\",\"showbackground\":true,\"ticks\":\"\",\"zerolinecolor\":\"white\"}},\"shapedefaults\":{\"line\":{\"color\":\"#2a3f5f\"}},\"ternary\":{\"aaxis\":{\"gridcolor\":\"white\",\"linecolor\":\"white\",\"ticks\":\"\"},\"baxis\":{\"gridcolor\":\"white\",\"linecolor\":\"white\",\"ticks\":\"\"},\"bgcolor\":\"#E5ECF6\",\"caxis\":{\"gridcolor\":\"white\",\"linecolor\":\"white\",\"ticks\":\"\"}},\"title\":{\"x\":0.05},\"xaxis\":{\"automargin\":true,\"gridcolor\":\"white\",\"linecolor\":\"white\",\"ticks\":\"\",\"title\":{\"standoff\":15},\"zerolinecolor\":\"white\",\"zerolinewidth\":2},\"yaxis\":{\"automargin\":true,\"gridcolor\":\"white\",\"linecolor\":\"white\",\"ticks\":\"\",\"title\":{\"standoff\":15},\"zerolinecolor\":\"white\",\"zerolinewidth\":2}}},\"title\":{\"text\":\"Profit Margin and Profits (Bucket of 100)\"},\"xaxis\":{\"title\":{\"text\":\"Bins\"}},\"yaxis\":{\"color\":\"blue\",\"range\":[35.55,50.66],\"side\":\"left\",\"title\":{\"text\":\"Profit Margin\"}},\"yaxis2\":{\"color\":\"red\",\"overlaying\":\"y\",\"range\":[119465.16,1170512.32],\"side\":\"right\",\"title\":{\"text\":\"Profits\"}}},                        {\"responsive\": true}                    ).then(function(){\n",
       "                            \n",
       "var gd = document.getElementById('2a8361be-f469-4360-ab94-df8d55f9e98d');\n",
       "var x = new MutationObserver(function (mutations, observer) {{\n",
       "        var display = window.getComputedStyle(gd).display;\n",
       "        if (!display || display === 'none') {{\n",
       "            console.log([gd, 'removed!']);\n",
       "            Plotly.purge(gd);\n",
       "            observer.disconnect();\n",
       "        }}\n",
       "}});\n",
       "\n",
       "// Listen for the removal of the full notebook cells\n",
       "var notebookContainer = gd.closest('#notebook-container');\n",
       "if (notebookContainer) {{\n",
       "    x.observe(notebookContainer, {childList: true});\n",
       "}}\n",
       "\n",
       "// Listen for the clearing of the current output cell\n",
       "var outputEl = gd.closest('.output');\n",
       "if (outputEl) {{\n",
       "    x.observe(outputEl, {childList: true});\n",
       "}}\n",
       "\n",
       "                        })                };                });            </script>        </div>"
      ]
     },
     "metadata": {},
     "output_type": "display_data"
    }
   ],
   "source": [
    "import numpy as np\n",
    "\n",
    "# Find the index where the profit margin starts to decrease\n",
    "index_decrease_margin = np.argmax(np.diff(grouped_df['profit_margin']) < 0)\n",
    "\n",
    "# Find the index where the profit starts to decrease\n",
    "index_decrease = np.argmax(np.diff(grouped_df['profits']) < 0)\n",
    "\n",
    "# Create traces\n",
    "trace1 = go.Scatter(x=grouped_df.index, y=grouped_df['profit_margin'], mode='lines+markers', name='Average Profit Margin', yaxis='y1')\n",
    "trace2 = go.Scatter(x=grouped_df.index, y=grouped_df['profits'], mode='lines+markers', name='Average Profits', yaxis='y2')\n",
    "\n",
    "# Create layout\n",
    "layout = go.Layout(\n",
    "    title='Profit Margin and Profits (Bucket of 100)',\n",
    "    xaxis=dict(title='Bins'),\n",
    "    yaxis=dict(title='Profit Margin', side='left', color='blue', range=[min(grouped_df['profit_margin']) - 1, max(grouped_df['profit_margin']) + 1]),\n",
    "    yaxis2=dict(title='Profits', overlaying='y', side='right', color='red', range=[min(grouped_df['profits']) - 100000, max(grouped_df['profits']) + 100000]),\n",
    "    annotations=[\n",
    "        dict(x=grouped_df.index[index_decrease_margin], y=grouped_df['profit_margin'][index_decrease_margin], xref='x', yref='y1',\n",
    "             text='Margin Decrease', showarrow=True, arrowhead=7, ax=0, ay=-40),\n",
    "        dict(x=grouped_df.index[index_decrease], y=grouped_df['profits'][index_decrease], xref='x', yref='y2',\n",
    "             text='Profit Decrease', showarrow=True, arrowhead=7, ax=0, ay=-40)\n",
    "    ]\n",
    ")\n",
    "\n",
    "# Create figure\n",
    "fig = go.Figure(data=[trace1, trace2], layout=layout)\n",
    "\n",
    "# Plot\n",
    "py.iplot(fig)\n"
   ]
  },
  {
   "attachments": {
    "image-2.png": {
     "image/png": "[encoded data removed]"
    }
   },
   "cell_type": "markdown",
   "id": "d63eddea",
   "metadata": {
    "slideshow": {
     "slide_type": "subslide"
    }
   },
   "source": [
    "![image-2.png](attachment:image-2.png)"
   ]
  },
  {
   "cell_type": "code",
   "execution_count": 65,
   "id": "aef57ebf",
   "metadata": {
    "slideshow": {
     "slide_type": "skip"
    }
   },
   "outputs": [
    {
     "name": "stdout",
     "output_type": "stream",
     "text": [
      "Initial profit margin: 23.96\n",
      "Initial profit: 667608.44\n",
      "Optimal number of sellers to remove: 856\n",
      "Optimal profit margin: 46.91\n",
      "Optimal profits: 1070976.12\n"
     ]
    }
   ],
   "source": [
    "def updated(sellers_df, seller_id):\n",
    "    # drop the seller\n",
    "    sellers_df = sellers_df.iloc[seller_id:]\n",
    "\n",
    "    # Calculate IT costs\n",
    "    alpha = 3157.27\n",
    "    beta = 978.23\n",
    "    it_costs = alpha * np.sqrt(len(sellers_df)) + beta * np.sqrt(sellers_df['quantity'].sum())\n",
    "\n",
    "    total_profits = sellers_df['profits'].sum() - it_costs\n",
    "    total_revenues = sellers_df['revenues'].sum()\n",
    "    profit_margin = (total_profits / total_revenues) * 100\n",
    "\n",
    "    profits = sellers_df['profits'].sum() - it_costs\n",
    "\n",
    "    return it_costs, profit_margin, profits\n",
    "\n",
    "def optimal_n(sellers_df):\n",
    "    # Initial profit margin and profits before removing any sellers\n",
    "    total_profits = sellers_df['profits'].sum() - 500000\n",
    "    total_revenues = sellers_df['revenues'].sum()\n",
    "    initial_profit_margin = (total_profits / total_revenues) * 100\n",
    "\n",
    "    initial_profits = sellers_df['profits'].sum() - 500000\n",
    "\n",
    "    #profit_margin and profits after removing i sellers\n",
    "    optimal_profit_margin = initial_profit_margin\n",
    "    optimal_profits = initial_profits\n",
    "    optimal_n_sellers = 0\n",
    "\n",
    "    for i in range(len(sellers_df)):\n",
    "        # Update IT costs, profit_margin, profits by removing i seller\n",
    "        it_costs, profit_margin, profits = updated(sellers_df, i)\n",
    "\n",
    "        # Check if current scenario improves profit margin and profits\n",
    "        if profit_margin > optimal_profit_margin and profits > optimal_profits:\n",
    "            optimal_profit_margin = profit_margin\n",
    "            optimal_profits = profits\n",
    "            optimal_n_sellers = i + 1  # Number of removed sellers\n",
    "\n",
    "\n",
    "    return round(initial_profit_margin,2), round(initial_profits,2), round(optimal_n_sellers,2), round(optimal_profit_margin,2), round(optimal_profits,2)\n",
    "\n",
    "# Execute the code\n",
    "initial_profit_margin, initial_profits, optimal_n_sellers, profit_margin, profits = optimal_n(sellers_df)\n",
    "\n",
    "# Print the results\n",
    "print(\"Initial profit margin:\", initial_profit_margin)\n",
    "print(\"Initial profit:\", initial_profits)\n",
    "print(\"Optimal number of sellers to remove:\", optimal_n_sellers)\n",
    "print(\"Optimal profit margin:\", profit_margin)\n",
    "print(\"Optimal profits:\", profits)"
   ]
  },
  {
   "cell_type": "markdown",
   "id": "8ed6e830",
   "metadata": {
    "slideshow": {
     "slide_type": "subslide"
    }
   },
   "source": [
    "## Profit Summary\n",
    "- **Initial Profit Margin:** 23.96\n",
    "- **Initial Profit:** 667,608.44\n",
    "\n",
    "## Optimal Analysis\n",
    "After further analysis, I found the best scenario to be:\n",
    "\n",
    "- **Optimal Number of Sellers to Remove:** 856\n",
    "- **Optimal Profit Margin:** 46.91\n",
    "- **Optimal Profits:** 1,070,976.12\n",
    "\n"
   ]
  },
  {
   "cell_type": "markdown",
   "id": "1127b5d8",
   "metadata": {
    "slideshow": {
     "slide_type": "slide"
    }
   },
   "source": [
    "## Conclusion\n",
    "\n",
    "Based on our \"what-if\" analysis, removing **856 sellers** could potentially optimize our profits by over **$400,000**. Please note that this is a hypothetical analysis and focuses on a specific segment of the company. Here are the recommendations:\n",
    "\n",
    "1. **Improve Recruitment**: Implement a more effective recruitment strategy for new sellers. Attracting high-quality sellers will enhance service quality, reduce wait times, and boost both customer satisfaction and profits.\n",
    "\n",
    "2. **Remove the Worst Performers**: Conduct an analysis to identify which sellers to remove and which could benefit from additional support. This will help in optimizing overall performance.\n",
    "\n",
    "3. **Further Analysis on Location and Product**: Investigate further into the location and product aspects to gain deeper insights and refine strategies.\n",
    "\n"
   ]
  },
  {
   "cell_type": "code",
   "execution_count": null,
   "id": "eb95c104",
   "metadata": {},
   "outputs": [],
   "source": []
  }
 ],
 "metadata": {
  "celltoolbar": "Diaporama",
  "kernelspec": {
   "display_name": "Python 3 (ipykernel)",
   "language": "python",
   "name": "python3"
  },
  "language_info": {
   "codemirror_mode": {
    "name": "ipython",
    "version": 3
   },
   "file_extension": ".py",
   "mimetype": "text/x-python",
   "name": "python",
   "nbconvert_exporter": "python",
   "pygments_lexer": "ipython3",
   "version": "3.10.6"
  },
  "toc": {
   "base_numbering": 1,
   "nav_menu": {},
   "number_sections": true,
   "sideBar": true,
   "skip_h1_title": false,
   "title_cell": "Table of Contents",
   "title_sidebar": "Contents",
   "toc_cell": false,
   "toc_position": {},
   "toc_section_display": true,
   "toc_window_display": false
  }
 },
 "nbformat": 4,
 "nbformat_minor": 5
}
